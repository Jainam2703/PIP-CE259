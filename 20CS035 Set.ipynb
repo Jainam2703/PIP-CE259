{
 "cells": [
  {
   "cell_type": "code",
   "execution_count": null,
   "id": "1bf1a9fc",
   "metadata": {},
   "outputs": [],
   "source": []
  },
  {
   "cell_type": "code",
   "execution_count": 3,
   "id": "6d5748d9",
   "metadata": {},
   "outputs": [
    {
     "name": "stdout",
     "output_type": "stream",
     "text": [
      "{'jay', 'jainam', 'harsh', 'Yash', 'het'}\n",
      "set()\n",
      "{'het', 'jay', 'jainam', 'Yash'}\n",
      "{'het', 'jay', 'jainam', 'Yash'}\n",
      "{'Mango', 'Kivi', 'Banana'}\n",
      "{'Apple', 'Kivi', 'Watermalon'}\n",
      "{'Mango', 'Apple', 'Watermalon', 'Kivi', 'Banana'}\n",
      "{'Kivi'}\n",
      "1000\n",
      "0\n",
      "\n",
      "2\n",
      "0\n",
      "3\n",
      "4\n"
     ]
    }
   ],
   "source": [
    "# StudentID:    20CS035\n",
    "# Student Name: Jainam Mehta\n",
    "\n",
    "# a.Write a Python program to add member(s) in a set and clear a set.\n",
    "A = {'jainam', 'jay', 'het', 'Yash'}\n",
    "A.add('harsh')      #add element\n",
    "print(A)\n",
    "\n",
    "A.clear()       #clear elemnent\n",
    "print(A)\n",
    "\n",
    "\n",
    "# b. Write a Python program to remove an item from a set if it is present in the set.\n",
    "A = {'jainam', 'jay', 'het', 'Yash'}\n",
    "print(A)\n",
    "\n",
    "if 'Nishant' in A:\n",
    "    A.remove('jainam')       #remove item by specific name\n",
    "print(A)\n",
    "\n",
    "\n",
    "# c. Write a Python program to create an intersection, Union, difference of sets.\n",
    "fruits = {'Mango','Banana','Kivi'}\n",
    "print(fruits)\n",
    "fruits2 = {'Watermalon','Apple','Kivi'}\n",
    "print(fruits2)\n",
    "print(fruits.union(fruits2))\n",
    "print(fruits.intersection(fruits2))\n",
    "\n",
    "# d. Write a Python program to find maximum and the minimum value in a set.\n",
    "set = { 0 ,11 , 125 , 1000}\n",
    "print(max(set))\n",
    "print(min(set))\n",
    "print()\n",
    "\n",
    "# e. Write a Python program to find the most common elements and their counts from list, tuple, dictionary.\n",
    "##for list:\n",
    "def most_frequent(List):\n",
    "    counter = 0\n",
    "    num = List[0]\n",
    "    for i in List:\n",
    "        curr_frequency = List.count(i)\n",
    "        if (curr_frequency > counter):\n",
    "            counter = curr_frequency\n",
    "            num = i\n",
    "    return num\n",
    "List = [2, 1, 2, 2, 1, 3]\n",
    "print(most_frequent(List))\n",
    "\n",
    "#for tuple\n",
    "def countX(tup, x):\n",
    "    count = 0\n",
    "    for ele in tup:\n",
    "        if (ele == x):\n",
    "            count = count + 1\n",
    "    return count\n",
    "\n",
    "tup = (10, 8, 5, 2, 10, 15, 10, 8, 5, 8, 8, 2)\n",
    "enq = 4\n",
    "enq1 = 10\n",
    "enq2 = 8\n",
    "print(countX(tup, enq))\n",
    "print(countX(tup, enq1))\n",
    "print(countX(tup, enq2))"
   ]
  },
  {
   "cell_type": "markdown",
   "id": "ee3cdaf9",
   "metadata": {},
   "source": []
  },
  {
   "cell_type": "code",
   "execution_count": null,
   "id": "bee73dde",
   "metadata": {},
   "outputs": [],
   "source": []
  }
 ],
 "metadata": {
  "kernelspec": {
   "display_name": "Python 3 (ipykernel)",
   "language": "python",
   "name": "python3"
  },
  "language_info": {
   "codemirror_mode": {
    "name": "ipython",
    "version": 3
   },
   "file_extension": ".py",
   "mimetype": "text/x-python",
   "name": "python",
   "nbconvert_exporter": "python",
   "pygments_lexer": "ipython3",
   "version": "3.9.7"
  }
 },
 "nbformat": 4,
 "nbformat_minor": 5
}
