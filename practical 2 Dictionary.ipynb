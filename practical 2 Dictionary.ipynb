{'S_name': 'Jainam Mehta', 'S_id': '20CS035', 'Department': 'CSE'}
True
True
True
{'Sub_name': 'Python Programming', 'Sub_code': 'PIP', 'S_name': 'Jainam Mehta', 'S_id': '20CS035', 'Department': 'CSE'}
270
{0: 10, 1: 20, 2: 30}
{1: 10, 2: 20, 3: 30, 4: 40, 5: 50, 6: 60}

